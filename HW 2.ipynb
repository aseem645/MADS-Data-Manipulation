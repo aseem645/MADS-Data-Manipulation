{
 "cells": [
  {
   "cell_type": "markdown",
   "metadata": {
    "deletable": false,
    "editable": false,
    "nbgrader": {
     "checksum": "bd3e9bfacc390b8e0f42483432694705",
     "grade": false,
     "grade_id": "cell-6136dad199cda99b",
     "locked": true,
     "schema_version": 1,
     "solution": false
    }
   },
   "source": [
    "*version 190901.0*"
   ]
  },
  {
   "cell_type": "markdown",
   "metadata": {
    "deletable": false,
    "editable": false,
    "nbgrader": {
     "checksum": "792ec649b6a9838ca0a923af22802334",
     "grade": false,
     "grade_id": "cell-a839e7b47494b4c3",
     "locked": true,
     "schema_version": 1,
     "solution": false
    }
   },
   "source": [
    "# Assignment 2\n",
    "For this assignment you'll be looking at 2017 data on immunizations from the CDC. Your datafile for this assignment is in [assets/NISPUF17.csv](assets/NISPUF17.csv). A data users guide for this, which you'll need to map the variables in the data to the questions being asked, is available at [assets/NIS-PUF17-DUG.pdf](assets/NIS-PUF17-DUG.pdf)."
   ]
  },
  {
   "cell_type": "markdown",
   "metadata": {
    "deletable": false,
    "editable": false,
    "hideCode": false,
    "hidePrompt": false,
    "nbgrader": {
     "checksum": "aaa5e730f40ba21c1bc94f864bad4742",
     "grade": false,
     "grade_id": "cell-58fc2e5938733f6a",
     "locked": true,
     "schema_version": 1,
     "solution": false
    }
   },
   "source": [
    "## Question 1\n",
    "Write a function called `proportion_of_education` which returns the proportion of children in the dataset who had a mother with the education levels equal to less than high school (<12), high school (12), more than high school but not a college graduate (>12) and college degree.\n",
    "\n",
    "*This function should return a dictionary in the form of (use the correct numbers, do not round numbers):* \n",
    "```\n",
    "    {\"less than high school\":0.2,\n",
    "    \"high school\":0.4,\n",
    "    \"more than high school but not college\":0.2,\n",
    "    \"college\":0.2}\n",
    "```\n"
   ]
  },
  {
   "cell_type": "code",
   "execution_count": 97,
   "metadata": {
    "deletable": false,
    "nbgrader": {
     "checksum": "0ac58deb3f5ac988c643e903cbee7f3a",
     "grade": false,
     "grade_id": "cell-eea16d020eb52ae7",
     "locked": false,
     "schema_version": 1,
     "solution": true
    }
   },
   "outputs": [],
   "source": [
    "import pandas as pd\n",
    "import numpy as np\n",
    "\n",
    "pd.set_option('display.max_columns', None)\n",
    "\n",
    "df = pd.read_csv('assets/NISPUF17.csv')\n",
    "#####################\n",
    "df_EDUC1_Less_Than_12 = df.where(df['EDUC1']==1)\n",
    "\n",
    "df_EDUC1_Equal_To_12 = df.where(df['EDUC1']==2)\n",
    "\n",
    "df_EDUC1_More12_Not_Col_Grad = df.where(df['EDUC1']==3)\n",
    "\n",
    "df_EDUC1_Col_Grad = df.where(df['EDUC1']==4)\n",
    "\n",
    "######################\n",
    "\n",
    "df_EDUC1_Series = df['EDUC1']\n",
    "\n",
    "df_EDUC1_Less_Than_12_Series = df_EDUC1_Less_Than_12['EDUC1']\n",
    "\n",
    "df_EDUC1_Equal_To_12_Series = df_EDUC1_Equal_To_12['EDUC1']\n",
    "\n",
    "df_EDUC1_More12_Not_Col_Grad_Series = df_EDUC1_More12_Not_Col_Grad['EDUC1']\n",
    "\n",
    "df_EDUC1_Col_Grad_Series = df_EDUC1_Col_Grad['EDUC1']\n",
    "\n",
    "#######################\n",
    "df_EDUC1_Series = df_EDUC1_Series.dropna()\n",
    "df_EDUC1_Less_Than_12_Series = df_EDUC1_Less_Than_12_Series.dropna()\n",
    "df_EDUC1_Equal_To_12_Series = df_EDUC1_Equal_To_12_Series.dropna()\n",
    "df_EDUC1_More12_Not_Col_Grad_Series = df_EDUC1_More12_Not_Col_Grad_Series.dropna()\n",
    "df_EDUC1_Col_Grad_Series = df_EDUC1_Col_Grad_Series.dropna()\n",
    "\n",
    "#######################\n",
    "\n",
    "lessthanhighschoolprop = (df_EDUC1_Less_Than_12_Series.count())/(df_EDUC1_Series.count())\n",
    "equaltohighschoolprop = (df_EDUC1_Equal_To_12_Series.count())/(df_EDUC1_Series.count())\n",
    "morethan12notcolgradprop = (df_EDUC1_More12_Not_Col_Grad_Series.count())/(df_EDUC1_Series.count())\n",
    "colgradprop = (df_EDUC1_Col_Grad_Series.count())/(df_EDUC1_Series.count())\n",
    "\n",
    "\n",
    "proportion_of_education_dictionary = {\"less than high school\":lessthanhighschoolprop,\n",
    "                              \"high school\":equaltohighschoolprop,\n",
    "                              \"more than high school but not college\":morethan12notcolgradprop,\n",
    "                              \"college\": colgradprop }\n",
    "    \n",
    "\n",
    "\n",
    "def proportion_of_education():\n",
    "    return proportion_of_education_dictionary\n",
    "    \n",
    "    raise NotImplementedError()\n",
    "    \n",
    "    \n"
   ]
  },
  {
   "cell_type": "code",
   "execution_count": 98,
   "metadata": {
    "deletable": false,
    "editable": false,
    "hideCode": false,
    "hidePrompt": false,
    "nbgrader": {
     "checksum": "ac5d91a24a7f72f66c25d242c3d24a50",
     "grade": true,
     "grade_id": "cell-c0eeef201366f51c",
     "locked": true,
     "points": 1,
     "schema_version": 1,
     "solution": false
    }
   },
   "outputs": [],
   "source": [
    "assert type(proportion_of_education())==type({}), \"You must return a dictionary.\"\n",
    "assert len(proportion_of_education()) == 4, \"You have not returned a dictionary with four items in it.\"\n",
    "assert \"less than high school\" in proportion_of_education().keys(), \"You have not returned a dictionary with the correct keys.\"\n",
    "assert \"high school\" in proportion_of_education().keys(), \"You have not returned a dictionary with the correct keys.\"\n",
    "assert \"more than high school but not college\" in proportion_of_education().keys(), \"You have not returned a dictionary with the correct keys.\"\n",
    "assert \"college\" in proportion_of_education().keys(), \"You have not returned a dictionary with the correct keys.\"\n"
   ]
  },
  {
   "cell_type": "markdown",
   "metadata": {
    "deletable": false,
    "editable": false,
    "nbgrader": {
     "checksum": "562b78b7b9b79580269be0a3bebf4b42",
     "grade": false,
     "grade_id": "cell-8fcbb64516283f52",
     "locked": true,
     "schema_version": 1,
     "solution": false
    }
   },
   "source": [
    "## Question 2\n",
    "\n",
    "Let's explore the relationship between being fed breastmilk as a child and getting a seasonal influenza vaccine from a healthcare provider. Return a tuple of the average number of influenza vaccines for those children we know received breastmilk as a child and those who know did not.\n",
    "\n",
    "*This function should return a tuple in the form (use the correct numbers:*\n",
    "```\n",
    "(2.5, 0.1)\n",
    "```"
   ]
  },
  {
   "cell_type": "code",
   "execution_count": 99,
   "metadata": {
    "deletable": false,
    "nbgrader": {
     "checksum": "a405d639063c4a6408365479f29c95c9",
     "grade": false,
     "grade_id": "cell-77f18c512324eabb",
     "locked": false,
     "schema_version": 1,
     "solution": true
    }
   },
   "outputs": [],
   "source": [
    "##CBF_01(1 = breastafeed 2 = no breastfeed)\n",
    "##P_NUMFLU\n",
    "\n",
    "\n",
    "\n",
    "\n",
    "target_dataframe = df[['CBF_01', 'P_NUMFLU']] \n",
    "##########################\n",
    "\n",
    "breastfeed_dataframe = target_dataframe.where(target_dataframe['CBF_01']==1)\n",
    "\n",
    "breastfeed_dataframe.dropna(inplace = True)\n",
    "##########################\n",
    "no_breastfeed_dataframe = target_dataframe.where(target_dataframe['CBF_01']==2)\n",
    "\n",
    "no_breastfeed_dataframe.dropna(inplace = True)\n",
    "##########################\n",
    "average_PNUMFLU_breastfeed = (breastfeed_dataframe['P_NUMFLU'].sum())/(len(breastfeed_dataframe))\n",
    "\n",
    "average_PNUMFLU_no_breastfeed =  (no_breastfeed_dataframe['P_NUMFLU'].sum())/(len(no_breastfeed_dataframe))\n",
    "\n",
    "\n",
    "\n",
    "\n",
    "def average_influenza_doses():\n",
    "    return (average_PNUMFLU_breastfeed, average_PNUMFLU_no_breastfeed)\n",
    "    raise NotImplementedError()"
   ]
  },
  {
   "cell_type": "code",
   "execution_count": 100,
   "metadata": {
    "deletable": false,
    "editable": false,
    "nbgrader": {
     "checksum": "4de57364b5c0afa95ba288544cf01989",
     "grade": true,
     "grade_id": "cell-54a3ba6cff31caa7",
     "locked": true,
     "points": 1,
     "schema_version": 1,
     "solution": false
    }
   },
   "outputs": [],
   "source": [
    "assert len(average_influenza_doses())==2, \"Return two values in a tuple, the first for yes the second for no.\"\n"
   ]
  },
  {
   "cell_type": "markdown",
   "metadata": {
    "deletable": false,
    "editable": false,
    "nbgrader": {
     "checksum": "20ae6abca7069306af70b6b2f09b36ee",
     "grade": false,
     "grade_id": "cell-f63377f3c97aa7c4",
     "locked": true,
     "schema_version": 1,
     "solution": false
    }
   },
   "source": [
    "## Question 3\n",
    "It would be interesting to see if there is any evidence of a link between vaccine effectiveness and sex of the child. Calculate the ratio of the number of children who contracted chickenpox but were vaccinated against it (at least one varicella dose) versus those who were vaccinated but did not contract chicken pox. Return results by sex. \n",
    "\n",
    "*This function should return a dictionary in the form of (use the correct numbers):* \n",
    "```\n",
    "    {\"male\":0.2,\n",
    "    \"female\":0.4}\n",
    "```"
   ]
  },
  {
   "cell_type": "code",
   "execution_count": 101,
   "metadata": {
    "deletable": false,
    "nbgrader": {
     "checksum": "b4d1b58acae002bc73eb0b19f95bc4af",
     "grade": false,
     "grade_id": "cell-a0a9e6fe67698006",
     "locked": false,
     "schema_version": 1,
     "solution": true
    }
   },
   "outputs": [],
   "source": [
    "###P_NUMVRC = any numberic value for number of varicella doses\n",
    "###HAD_CPOX: 1=YES, 2=NO\n",
    "###SEX: 1=Male 2=Female\n",
    "\n",
    "\n",
    "\n",
    "\n",
    "\n",
    "\n",
    "\n",
    "target_dataframe = df[['HAD_CPOX', 'P_NUMVRC', 'SEX']] \n",
    "##########################\n",
    "had_chickenpox = target_dataframe.where(target_dataframe['HAD_CPOX']==1)\n",
    "no_chickenpox = target_dataframe.where(target_dataframe['HAD_CPOX']==2)\n",
    "\n",
    "##########################\n",
    "had_chickenpox_vaccinated = had_chickenpox.where(had_chickenpox['P_NUMVRC']>0)\n",
    "no_chickenpox_vaccinated = no_chickenpox.where(no_chickenpox['P_NUMVRC'] >0)\n",
    "\n",
    "##########################\n",
    "had_chickenpox_vaccinated_male = had_chickenpox_vaccinated.where(had_chickenpox_vaccinated['SEX']==1)\n",
    "\n",
    "no_chickenpox_vaccinated_male = no_chickenpox_vaccinated.where(no_chickenpox_vaccinated['SEX']==1)\n",
    "\n",
    "\n",
    "had_chickenpox_vaccinated_female = had_chickenpox_vaccinated.where(had_chickenpox_vaccinated['SEX']==2)\n",
    "no_chickenpox_vaccinated_female =  no_chickenpox_vaccinated.where(no_chickenpox_vaccinated['SEX']==2)\n",
    "\n",
    "\n",
    "\n",
    "had_chickenpox_vaccinated_male.dropna(inplace = True)\n",
    "no_chickenpox_vaccinated_male.dropna(inplace = True)\n",
    "had_chickenpox_vaccinated_female.dropna(inplace = True)\n",
    "no_chickenpox_vaccinated_female.dropna(inplace = True)\n",
    "##########################\n",
    "\n",
    "male_ratio = len(had_chickenpox_vaccinated_male)/len(no_chickenpox_vaccinated_male)\n",
    "\n",
    "female_ratio = len(had_chickenpox_vaccinated_female)/len(no_chickenpox_vaccinated_female)\n",
    "\n",
    "\n",
    "\n",
    "\n",
    "\n",
    "\n",
    "def chickenpox_by_sex():\n",
    "    chicken_dict =    {\n",
    "    \"male\" : male_ratio,\n",
    "    \"female\" : female_ratio,\n",
    "\n",
    "     }\n",
    "    \n",
    "    return chicken_dict\n",
    "\n",
    "    raise NotImplementedError()"
   ]
  },
  {
   "cell_type": "code",
   "execution_count": 102,
   "metadata": {
    "deletable": false,
    "editable": false,
    "nbgrader": {
     "checksum": "6078df5b535d92d7aea004fb29040c27",
     "grade": true,
     "grade_id": "cell-c4f1714db100c865",
     "locked": true,
     "points": 1,
     "schema_version": 1,
     "solution": false
    }
   },
   "outputs": [],
   "source": [
    "assert len(chickenpox_by_sex())==2, \"Return two values in a tuple, the first for males the second for females.\"\n"
   ]
  },
  {
   "cell_type": "markdown",
   "metadata": {},
   "source": [
    "## Question 4\n",
    "A correlation is a statistical relationship between two variables. If we wanted to know if vaccines work, we might look at the correlation between the use of the vaccine and whether it results in prevention of the infection or disease [1]. In this question, you are to see if there is a correlation between having had the chicken pox and the number of chickenpox vaccine doses given (varicella).\n",
    "\n",
    "Some notes on interpreting the answer. If the `had_chickenpox_column` is either `1` (for yes) or `2` for no, and that the `num_chickenpox_vaccine_column` is the number of doses a child has been given of the varicella vaccine, then a positive correlation (e.g. `corr > 0`) would mean that an increase in `had_chickenpox_column` (which means more no's) would mean an increase in the `num_chickenpox_vaccine_column` (which means more doses of vaccine). If `corr < 0` then there is a negative correlation, indicating that having had chickenpox is related to an increase in the number of vaccine doses. Also, `pval` refers to the probability the relationship observed is significant. In this case `pval` should be very very small (will end in `e-18` indicating a very small number), which means the result unlikely to be by chance.\n",
    "\n",
    "[1] This isn't really the full picture, since we are not looking at when the dose was given. It's possible that children had chickenpox and then their parents went to get them the vaccine. Does this dataset have the data we would need to investigate the timing of the dose?"
   ]
  },
  {
   "cell_type": "code",
   "execution_count": 110,
   "metadata": {
    "deletable": false,
    "nbgrader": {
     "checksum": "3e645859949447913cd11d30eb33cb1e",
     "grade": false,
     "grade_id": "cell-8afff07f564cf79a",
     "locked": false,
     "schema_version": 1,
     "solution": true
    }
   },
   "outputs": [],
   "source": [
    "def corr_chickenpox():\n",
    "    import scipy.stats as stats\n",
    "    import numpy as np\n",
    "    import pandas as pd\n",
    "    \n",
    "    # this is just an example dataframe\n",
    "    almost_pre_target_dataframe = df[['HAD_CPOX', 'P_NUMVRC']]\n",
    "    pre_target_dataframe =  almost_pre_target_dataframe[(almost_pre_target_dataframe['HAD_CPOX'] >= 1) & (almost_pre_target_dataframe['HAD_CPOX'] <= 2)]\n",
    "    target_dataframe = pre_target_dataframe.dropna()\n",
    "\n",
    "    \n",
    "\n",
    "    # here is some stub code to actually run the correlation\n",
    "    corr, pval=stats.pearsonr(target_dataframe[\"HAD_CPOX\"],target_dataframe[\"P_NUMVRC\"])\n",
    "    \n",
    "    \n",
    "    # just return the correlation\n",
    "    return corr\n",
    "\n",
    "\n",
    "    # YOUR CODE HERE\n",
    "    raise NotImplementedError()"
   ]
  },
  {
   "cell_type": "code",
   "execution_count": 109,
   "metadata": {
    "deletable": false,
    "editable": false,
    "nbgrader": {
     "checksum": "ac50ccb747b99f6bbcc76da017e66528",
     "grade": true,
     "grade_id": "cell-73408733533a29a5",
     "locked": true,
     "points": 1,
     "schema_version": 1,
     "solution": false
    }
   },
   "outputs": [],
   "source": [
    "assert -1<=corr_chickenpox()<=1, \"You must return a float number between -1.0 and 1.0.\"\n"
   ]
  }
 ],
 "metadata": {
  "anaconda-cloud": {},
  "coursera": {
   "schema_names": [
    "mads_data_manipulation_assignment2"
   ]
  },
  "hide_code_all_hidden": false,
  "kernelspec": {
   "display_name": "Python 3",
   "language": "python",
   "name": "python3"
  },
  "language_info": {
   "codemirror_mode": {
    "name": "ipython",
    "version": 3
   },
   "file_extension": ".py",
   "mimetype": "text/x-python",
   "name": "python",
   "nbconvert_exporter": "python",
   "pygments_lexer": "ipython3",
   "version": "3.7.3"
  }
 },
 "nbformat": 4,
 "nbformat_minor": 1
}
